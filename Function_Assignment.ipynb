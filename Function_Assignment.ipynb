{
  "nbformat": 4,
  "nbformat_minor": 0,
  "metadata": {
    "colab": {
      "provenance": []
    },
    "kernelspec": {
      "name": "python3",
      "display_name": "Python 3"
    },
    "language_info": {
      "name": "python"
    }
  },
  "cells": [
    {
      "cell_type": "code",
      "execution_count": null,
      "metadata": {
        "id": "U0vqbWXhoYoc"
      },
      "outputs": [],
      "source": []
    },
    {
      "cell_type": "markdown",
      "source": [
        "# *THEORETICAL QUESTIONS*\n",
        "\n",
        "1) What is the difference between afunction and a method in Python?\n",
        "\n",
        "Ans) A function is a block of code that is defined independently and can be called directly by its name. A method is a function that is defined within a class and is associated with object of that class.\n",
        "\n",
        "2) Explain the concept of function arguements and parametres in Python.\n",
        "\n",
        "Ans) Parametres are the place holders defined within the parenthesis of the function's definition. They act as a variable that will recieve a value when the function is called. Arguements are the actual values that are passed to a function when it is called.These values are assigned to the corresponding parametres within the the functions scope during execution.\n",
        "\n",
        "\n",
        "Example:\n",
        "\n",
        "def greet(name,message)# these are parametres.\n",
        "greet(\"Alice\",\"Welcome to Pyhton!\")#this is arguements\n",
        "\n",
        "\n",
        "3) What are different ways to defione and call a function in Python?\n",
        "\n",
        "Ans) Function in Python are defined using the def keyword, function name,paranthesis(),paramtres,colon:,indentation,docstring,return statement.\n",
        "\n",
        "Example:\n",
        "\n",
        "def function_name(para1,para2):\n",
        "    \"\"\"Docstring: this is an string explaining the function's purpose\"\"'\n",
        "    #Function body\n",
        "\n",
        "    statement 1\n",
        "    statement2\n",
        "\n",
        "    #\n",
        "    return value\n",
        "\n",
        "4) What is the purpose of return statement in Python?\n",
        "\n",
        "Ans) The purpose of the return statement is that the function's execution is immediately terminates and the control is passed back to the point in the code where the function is called..This allows the function to produce output of the fuction that can be used in other parts of the program.\n",
        "\n",
        "Example:\n",
        "\n",
        "\n",
        "      \n",
        "\n",
        "\n"
      ],
      "metadata": {
        "id": "6SpMmqDXothZ"
      }
    },
    {
      "cell_type": "code",
      "source": [
        "def add(x,y):\n",
        "  z = x+y\n",
        "  return(z)\n",
        "add(5,3)\n",
        "\n"
      ],
      "metadata": {
        "colab": {
          "base_uri": "https://localhost:8080/"
        },
        "id": "iGhvxRLTwOOo",
        "outputId": "6a9330ee-dde4-482d-8db2-46392c15eb9f"
      },
      "execution_count": null,
      "outputs": [
        {
          "output_type": "execute_result",
          "data": {
            "text/plain": [
              "8"
            ]
          },
          "metadata": {},
          "execution_count": 1
        }
      ]
    },
    {
      "cell_type": "markdown",
      "source": [
        "5) Whsat are iterators in Python and how do they differ from iterables?\n",
        "\n",
        "Ans) Iterators are an objects representing stream of data and return the data one by one. Iterable is any Python object /sequential structure/data structure that us capable of returning its objects one at atime that is permitting it to be iterated over in afor loop or while loop.\n",
        "Example:\n",
        "\n",
        "list,tuples ,dictionaries ,set and strings"
      ],
      "metadata": {
        "id": "NFpGjIJXhZSD"
      }
    },
    {
      "cell_type": "code",
      "source": [
        "my_list = [1,2,3,4]\n",
        "for i in my_list:\n",
        "  print(i)\n",
        "\n"
      ],
      "metadata": {
        "colab": {
          "base_uri": "https://localhost:8080/"
        },
        "id": "TyqeL-FepCbq",
        "outputId": "ac662fd6-a41b-4376-bc5a-bec2b97cf018"
      },
      "execution_count": null,
      "outputs": [
        {
          "output_type": "stream",
          "name": "stdout",
          "text": [
            "1\n",
            "2\n",
            "3\n",
            "4\n"
          ]
        }
      ]
    },
    {
      "cell_type": "code",
      "source": [
        "#so list is iterable"
      ],
      "metadata": {
        "id": "4OqiUekepnAC"
      },
      "execution_count": null,
      "outputs": []
    },
    {
      "cell_type": "markdown",
      "source": [
        "example of iterator"
      ],
      "metadata": {
        "id": "SQuaWDBypxX5"
      }
    },
    {
      "cell_type": "code",
      "source": [
        "s = \"pwskills\"\n",
        "for i in s:\n",
        "  print(i)\n",
        "  a = iter(s)"
      ],
      "metadata": {
        "colab": {
          "base_uri": "https://localhost:8080/"
        },
        "id": "7iSlAQksp22R",
        "outputId": "531f857c-ef63-4325-fa8d-bf6b6c2caf18"
      },
      "execution_count": null,
      "outputs": [
        {
          "output_type": "stream",
          "name": "stdout",
          "text": [
            "p\n",
            "w\n",
            "s\n",
            "k\n",
            "i\n",
            "l\n",
            "l\n",
            "s\n"
          ]
        }
      ]
    },
    {
      "cell_type": "markdown",
      "source": [
        "5)"
      ],
      "metadata": {
        "id": "MVXZcLdSwysf"
      }
    },
    {
      "cell_type": "code",
      "source": [
        "a"
      ],
      "metadata": {
        "id": "x72_8KDxwtDY",
        "colab": {
          "base_uri": "https://localhost:8080/"
        },
        "outputId": "e921dc71-dfb5-4cd7-916f-6dce53ee898b"
      },
      "execution_count": null,
      "outputs": [
        {
          "output_type": "execute_result",
          "data": {
            "text/plain": [
              "<str_ascii_iterator at 0x7d36976ab070>"
            ]
          },
          "metadata": {},
          "execution_count": 13
        }
      ]
    },
    {
      "cell_type": "code",
      "source": [
        "next(a)"
      ],
      "metadata": {
        "colab": {
          "base_uri": "https://localhost:8080/",
          "height": 36
        },
        "id": "ipOUQbP8rMAZ",
        "outputId": "a33b29cc-70eb-46ec-c520-32fb847694fc"
      },
      "execution_count": null,
      "outputs": [
        {
          "output_type": "execute_result",
          "data": {
            "text/plain": [
              "'p'"
            ],
            "application/vnd.google.colaboratory.intrinsic+json": {
              "type": "string"
            }
          },
          "metadata": {},
          "execution_count": 14
        }
      ]
    },
    {
      "cell_type": "code",
      "source": [
        "next(a)"
      ],
      "metadata": {
        "colab": {
          "base_uri": "https://localhost:8080/",
          "height": 36
        },
        "id": "9RsJxb1OrQi5",
        "outputId": "d5e3ab1f-9929-40af-baf2-dd659a2c0a95"
      },
      "execution_count": null,
      "outputs": [
        {
          "output_type": "execute_result",
          "data": {
            "text/plain": [
              "'w'"
            ],
            "application/vnd.google.colaboratory.intrinsic+json": {
              "type": "string"
            }
          },
          "metadata": {},
          "execution_count": 15
        }
      ]
    },
    {
      "cell_type": "code",
      "source": [
        "next(a)"
      ],
      "metadata": {
        "colab": {
          "base_uri": "https://localhost:8080/",
          "height": 36
        },
        "id": "xdPFMKJlrSnQ",
        "outputId": "69844fde-2281-49bf-b449-0a53377fcb25"
      },
      "execution_count": null,
      "outputs": [
        {
          "output_type": "execute_result",
          "data": {
            "text/plain": [
              "'s'"
            ],
            "application/vnd.google.colaboratory.intrinsic+json": {
              "type": "string"
            }
          },
          "metadata": {},
          "execution_count": 16
        }
      ]
    },
    {
      "cell_type": "markdown",
      "source": [
        "6) Explain the concept of generators in Python and how they are defined?\n",
        "\n",
        "Ans) Generator are a special type of functions that return an iterator object,which can be iterated to produce sequence of values one by one. Generators are defined similar to regular function usinf def keyword bt with acrucial difference ,they use the yield keyword instead return to produce values.\n",
        "\n",
        "Example:\n",
        "\n"
      ],
      "metadata": {
        "id": "3DyiF_iTrZ4J"
      }
    },
    {
      "cell_type": "code",
      "source": [
        "def sq_num_gen(n):\n",
        "  for i in range(n):\n",
        "    yield i**2\n",
        "gen = sq_num_gen(6)"
      ],
      "metadata": {
        "id": "6ScyYWUBtoqB"
      },
      "execution_count": null,
      "outputs": []
    },
    {
      "cell_type": "code",
      "source": [
        "next(gen)"
      ],
      "metadata": {
        "colab": {
          "base_uri": "https://localhost:8080/"
        },
        "id": "A7yzslbUuI0I",
        "outputId": "27a3e0a7-9e0b-4e15-9e27-dd8ada4631f0"
      },
      "execution_count": null,
      "outputs": [
        {
          "output_type": "execute_result",
          "data": {
            "text/plain": [
              "0"
            ]
          },
          "metadata": {},
          "execution_count": 18
        }
      ]
    },
    {
      "cell_type": "code",
      "source": [
        "next(gen)"
      ],
      "metadata": {
        "colab": {
          "base_uri": "https://localhost:8080/"
        },
        "id": "C-qLpPtduNuA",
        "outputId": "12506d5e-907f-41ed-9331-df9891a677bd"
      },
      "execution_count": null,
      "outputs": [
        {
          "output_type": "execute_result",
          "data": {
            "text/plain": [
              "1"
            ]
          },
          "metadata": {},
          "execution_count": 19
        }
      ]
    },
    {
      "cell_type": "code",
      "source": [
        "next(gen)"
      ],
      "metadata": {
        "colab": {
          "base_uri": "https://localhost:8080/"
        },
        "id": "vbYbvJJfuP7g",
        "outputId": "3e607e67-33b2-4d5c-bd27-24507b09715c"
      },
      "execution_count": null,
      "outputs": [
        {
          "output_type": "execute_result",
          "data": {
            "text/plain": [
              "4"
            ]
          },
          "metadata": {},
          "execution_count": 20
        }
      ]
    },
    {
      "cell_type": "code",
      "source": [
        "next(gen)"
      ],
      "metadata": {
        "colab": {
          "base_uri": "https://localhost:8080/"
        },
        "id": "1KnLgCm9uSxw",
        "outputId": "20176612-045a-4e2f-b3f5-4792b4d3e46f"
      },
      "execution_count": null,
      "outputs": [
        {
          "output_type": "execute_result",
          "data": {
            "text/plain": [
              "9"
            ]
          },
          "metadata": {},
          "execution_count": 21
        }
      ]
    },
    {
      "cell_type": "code",
      "source": [
        "next(gen)"
      ],
      "metadata": {
        "colab": {
          "base_uri": "https://localhost:8080/"
        },
        "id": "kK4mhvUvuUjQ",
        "outputId": "c5eb9b95-7e60-4415-fcce-52d9b7c646de"
      },
      "execution_count": null,
      "outputs": [
        {
          "output_type": "execute_result",
          "data": {
            "text/plain": [
              "16"
            ]
          },
          "metadata": {},
          "execution_count": 22
        }
      ]
    },
    {
      "cell_type": "markdown",
      "source": [
        "7) What are the advantages of using generator over regular functions?\n",
        "\n",
        "Ans) In generator values are generated only when requested . This evaluation is crucial for handling large datasets,as it significantly reduces memory consumption.\n",
        "\n",
        "8) What is lambda function in Python and when it is typically used?\n",
        "\n",
        "Ans) A Python lambda function is a small,anonymous functuondefined using the lambda keyword. Lmabda functions are typically used for short operations where defining a full function with def would be overly unnecessary.\n",
        "\n",
        "Example:\n",
        "\n"
      ],
      "metadata": {
        "id": "NodNwQSMuZei"
      }
    },
    {
      "cell_type": "code",
      "source": [
        "sq_lambda = lambda x:x**2\n",
        "sq_lambda(6)"
      ],
      "metadata": {
        "colab": {
          "base_uri": "https://localhost:8080/"
        },
        "id": "AvLwPHPby4Hp",
        "outputId": "84c0c8fc-f0f9-4a16-caad-9b5408481656"
      },
      "execution_count": null,
      "outputs": [
        {
          "output_type": "execute_result",
          "data": {
            "text/plain": [
              "36"
            ]
          },
          "metadata": {},
          "execution_count": 23
        }
      ]
    },
    {
      "cell_type": "markdown",
      "source": [
        "9) Explain the purpose and usage of map() function in Python.\n",
        "\n",
        "Ans) It is a built-in high order function used to apply a specified function to each item in an iterable,returning an iterator of the result.The primaru purpose of map is to provide efficiemnt way to transform all the elements of an iterable by applying a single function to all of them witout usinf explicit for loops and while loops.\n",
        "\n",
        "Example:"
      ],
      "metadata": {
        "id": "37COK87vzZZQ"
      }
    },
    {
      "cell_type": "code",
      "source": [
        "numbers = [1,2,3,4,5]\n",
        "list(map(lambda x:x*x,numbers))"
      ],
      "metadata": {
        "colab": {
          "base_uri": "https://localhost:8080/"
        },
        "id": "t5nPrDdx1T2o",
        "outputId": "148b2f57-fd00-497d-e577-94e57661f862"
      },
      "execution_count": null,
      "outputs": [
        {
          "output_type": "execute_result",
          "data": {
            "text/plain": [
              "[1, 4, 9, 16, 25]"
            ]
          },
          "metadata": {},
          "execution_count": 24
        }
      ]
    },
    {
      "cell_type": "markdown",
      "source": [
        "10) What is the difference between map(),reduce() and filter() functions in Python?\n",
        "\n",
        "Ans) The filter() function in Pyhton is a built-in function used for selecting elements from an iterable based on a condition. map() is a function applied to each element of a dataset,transforming it into a key value pair . reduce() function in which values are associated with the same keys are combined to produce a final result."
      ],
      "metadata": {
        "id": "pcgjjLPv2zAo"
      }
    },
    {
      "cell_type": "code",
      "source": [
        "num = [1,2,3,4,5]\n",
        "list(map(lambda x: x**3,num))"
      ],
      "metadata": {
        "colab": {
          "base_uri": "https://localhost:8080/"
        },
        "id": "NK371MOm4h_Q",
        "outputId": "9a2941e2-0f25-4ba3-af4d-627099cbecb5"
      },
      "execution_count": null,
      "outputs": [
        {
          "output_type": "execute_result",
          "data": {
            "text/plain": [
              "[1, 8, 27, 64, 125]"
            ]
          },
          "metadata": {},
          "execution_count": 25
        }
      ]
    },
    {
      "cell_type": "code",
      "source": [
        "list(filter(lambda x:x%2==0,num))"
      ],
      "metadata": {
        "colab": {
          "base_uri": "https://localhost:8080/"
        },
        "id": "Kmmf1vATuXCg",
        "outputId": "ae7e59ae-dc56-4888-cca9-acf22b2a3bb9"
      },
      "execution_count": null,
      "outputs": [
        {
          "output_type": "execute_result",
          "data": {
            "text/plain": [
              "[2, 4]"
            ]
          },
          "metadata": {},
          "execution_count": 26
        }
      ]
    },
    {
      "cell_type": "code",
      "source": [
        "from functools import reduce\n",
        "total = reduce(lambda x,y:x+y,num)\n"
      ],
      "metadata": {
        "id": "jjhn4oAv5Ua3"
      },
      "execution_count": null,
      "outputs": []
    },
    {
      "cell_type": "code",
      "source": [
        "total"
      ],
      "metadata": {
        "colab": {
          "base_uri": "https://localhost:8080/"
        },
        "id": "GCHpySiB6Nbn",
        "outputId": "b2c542bb-1c20-4230-be70-dfeed298a83b"
      },
      "execution_count": null,
      "outputs": [
        {
          "output_type": "execute_result",
          "data": {
            "text/plain": [
              "15"
            ]
          },
          "metadata": {},
          "execution_count": 28
        }
      ]
    },
    {
      "cell_type": "markdown",
      "source": [
        "11) Using pen paper write the internal mechanism for sum operation using reduce function on this given list[47,11,42,13]."
      ],
      "metadata": {
        "id": "Q2YZ4i0x6TQP"
      }
    },
    {
      "cell_type": "code",
      "source": [
        "from google.colab import files\n",
        "uploaded = files.upload()"
      ],
      "metadata": {
        "colab": {
          "base_uri": "https://localhost:8080/",
          "height": 73
        },
        "id": "Sd4gV4jZ_Qdn",
        "outputId": "5d3a1918-f297-403b-c5a9-aa348c3546e5"
      },
      "execution_count": 4,
      "outputs": [
        {
          "output_type": "display_data",
          "data": {
            "text/plain": [
              "<IPython.core.display.HTML object>"
            ],
            "text/html": [
              "\n",
              "     <input type=\"file\" id=\"files-c309e9d4-3069-4d85-a4e5-10ef7df730a0\" name=\"files[]\" multiple disabled\n",
              "        style=\"border:none\" />\n",
              "     <output id=\"result-c309e9d4-3069-4d85-a4e5-10ef7df730a0\">\n",
              "      Upload widget is only available when the cell has been executed in the\n",
              "      current browser session. Please rerun this cell to enable.\n",
              "      </output>\n",
              "      <script>// Copyright 2017 Google LLC\n",
              "//\n",
              "// Licensed under the Apache License, Version 2.0 (the \"License\");\n",
              "// you may not use this file except in compliance with the License.\n",
              "// You may obtain a copy of the License at\n",
              "//\n",
              "//      http://www.apache.org/licenses/LICENSE-2.0\n",
              "//\n",
              "// Unless required by applicable law or agreed to in writing, software\n",
              "// distributed under the License is distributed on an \"AS IS\" BASIS,\n",
              "// WITHOUT WARRANTIES OR CONDITIONS OF ANY KIND, either express or implied.\n",
              "// See the License for the specific language governing permissions and\n",
              "// limitations under the License.\n",
              "\n",
              "/**\n",
              " * @fileoverview Helpers for google.colab Python module.\n",
              " */\n",
              "(function(scope) {\n",
              "function span(text, styleAttributes = {}) {\n",
              "  const element = document.createElement('span');\n",
              "  element.textContent = text;\n",
              "  for (const key of Object.keys(styleAttributes)) {\n",
              "    element.style[key] = styleAttributes[key];\n",
              "  }\n",
              "  return element;\n",
              "}\n",
              "\n",
              "// Max number of bytes which will be uploaded at a time.\n",
              "const MAX_PAYLOAD_SIZE = 100 * 1024;\n",
              "\n",
              "function _uploadFiles(inputId, outputId) {\n",
              "  const steps = uploadFilesStep(inputId, outputId);\n",
              "  const outputElement = document.getElementById(outputId);\n",
              "  // Cache steps on the outputElement to make it available for the next call\n",
              "  // to uploadFilesContinue from Python.\n",
              "  outputElement.steps = steps;\n",
              "\n",
              "  return _uploadFilesContinue(outputId);\n",
              "}\n",
              "\n",
              "// This is roughly an async generator (not supported in the browser yet),\n",
              "// where there are multiple asynchronous steps and the Python side is going\n",
              "// to poll for completion of each step.\n",
              "// This uses a Promise to block the python side on completion of each step,\n",
              "// then passes the result of the previous step as the input to the next step.\n",
              "function _uploadFilesContinue(outputId) {\n",
              "  const outputElement = document.getElementById(outputId);\n",
              "  const steps = outputElement.steps;\n",
              "\n",
              "  const next = steps.next(outputElement.lastPromiseValue);\n",
              "  return Promise.resolve(next.value.promise).then((value) => {\n",
              "    // Cache the last promise value to make it available to the next\n",
              "    // step of the generator.\n",
              "    outputElement.lastPromiseValue = value;\n",
              "    return next.value.response;\n",
              "  });\n",
              "}\n",
              "\n",
              "/**\n",
              " * Generator function which is called between each async step of the upload\n",
              " * process.\n",
              " * @param {string} inputId Element ID of the input file picker element.\n",
              " * @param {string} outputId Element ID of the output display.\n",
              " * @return {!Iterable<!Object>} Iterable of next steps.\n",
              " */\n",
              "function* uploadFilesStep(inputId, outputId) {\n",
              "  const inputElement = document.getElementById(inputId);\n",
              "  inputElement.disabled = false;\n",
              "\n",
              "  const outputElement = document.getElementById(outputId);\n",
              "  outputElement.innerHTML = '';\n",
              "\n",
              "  const pickedPromise = new Promise((resolve) => {\n",
              "    inputElement.addEventListener('change', (e) => {\n",
              "      resolve(e.target.files);\n",
              "    });\n",
              "  });\n",
              "\n",
              "  const cancel = document.createElement('button');\n",
              "  inputElement.parentElement.appendChild(cancel);\n",
              "  cancel.textContent = 'Cancel upload';\n",
              "  const cancelPromise = new Promise((resolve) => {\n",
              "    cancel.onclick = () => {\n",
              "      resolve(null);\n",
              "    };\n",
              "  });\n",
              "\n",
              "  // Wait for the user to pick the files.\n",
              "  const files = yield {\n",
              "    promise: Promise.race([pickedPromise, cancelPromise]),\n",
              "    response: {\n",
              "      action: 'starting',\n",
              "    }\n",
              "  };\n",
              "\n",
              "  cancel.remove();\n",
              "\n",
              "  // Disable the input element since further picks are not allowed.\n",
              "  inputElement.disabled = true;\n",
              "\n",
              "  if (!files) {\n",
              "    return {\n",
              "      response: {\n",
              "        action: 'complete',\n",
              "      }\n",
              "    };\n",
              "  }\n",
              "\n",
              "  for (const file of files) {\n",
              "    const li = document.createElement('li');\n",
              "    li.append(span(file.name, {fontWeight: 'bold'}));\n",
              "    li.append(span(\n",
              "        `(${file.type || 'n/a'}) - ${file.size} bytes, ` +\n",
              "        `last modified: ${\n",
              "            file.lastModifiedDate ? file.lastModifiedDate.toLocaleDateString() :\n",
              "                                    'n/a'} - `));\n",
              "    const percent = span('0% done');\n",
              "    li.appendChild(percent);\n",
              "\n",
              "    outputElement.appendChild(li);\n",
              "\n",
              "    const fileDataPromise = new Promise((resolve) => {\n",
              "      const reader = new FileReader();\n",
              "      reader.onload = (e) => {\n",
              "        resolve(e.target.result);\n",
              "      };\n",
              "      reader.readAsArrayBuffer(file);\n",
              "    });\n",
              "    // Wait for the data to be ready.\n",
              "    let fileData = yield {\n",
              "      promise: fileDataPromise,\n",
              "      response: {\n",
              "        action: 'continue',\n",
              "      }\n",
              "    };\n",
              "\n",
              "    // Use a chunked sending to avoid message size limits. See b/62115660.\n",
              "    let position = 0;\n",
              "    do {\n",
              "      const length = Math.min(fileData.byteLength - position, MAX_PAYLOAD_SIZE);\n",
              "      const chunk = new Uint8Array(fileData, position, length);\n",
              "      position += length;\n",
              "\n",
              "      const base64 = btoa(String.fromCharCode.apply(null, chunk));\n",
              "      yield {\n",
              "        response: {\n",
              "          action: 'append',\n",
              "          file: file.name,\n",
              "          data: base64,\n",
              "        },\n",
              "      };\n",
              "\n",
              "      let percentDone = fileData.byteLength === 0 ?\n",
              "          100 :\n",
              "          Math.round((position / fileData.byteLength) * 100);\n",
              "      percent.textContent = `${percentDone}% done`;\n",
              "\n",
              "    } while (position < fileData.byteLength);\n",
              "  }\n",
              "\n",
              "  // All done.\n",
              "  yield {\n",
              "    response: {\n",
              "      action: 'complete',\n",
              "    }\n",
              "  };\n",
              "}\n",
              "\n",
              "scope.google = scope.google || {};\n",
              "scope.google.colab = scope.google.colab || {};\n",
              "scope.google.colab._files = {\n",
              "  _uploadFiles,\n",
              "  _uploadFilesContinue,\n",
              "};\n",
              "})(self);\n",
              "</script> "
            ]
          },
          "metadata": {}
        },
        {
          "output_type": "stream",
          "name": "stdout",
          "text": [
            "Saving WhatsApp Image 2025-07-29 at 9.09.45 PM (1).jpeg to WhatsApp Image 2025-07-29 at 9.09.45 PM (1) (1).jpeg\n"
          ]
        }
      ]
    },
    {
      "cell_type": "markdown",
      "source": [
        "**PRACTICAL QUESTIONS**\n",
        "\n",
        "\n",
        "1) Write a Python function that takes a list of numbers as input and returns the sum of all even numbers in the list."
      ],
      "metadata": {
        "id": "LFXQDmUIsGYb"
      }
    },
    {
      "cell_type": "code",
      "source": [
        "def even_sum(n):\n",
        "  sum = 0\n",
        "  for i in n:\n",
        "    if i%2==0:\n",
        "      sum = sum + i\n",
        "  return sum\n",
        "\n",
        "\n"
      ],
      "metadata": {
        "id": "G4jSmxoty4hx"
      },
      "execution_count": null,
      "outputs": []
    },
    {
      "cell_type": "code",
      "source": [
        "even_sum([1,2,3,4,5,6,7,8,9])"
      ],
      "metadata": {
        "colab": {
          "base_uri": "https://localhost:8080/"
        },
        "id": "i-Nbj-6O4IzA",
        "outputId": "17a55ad8-6a2a-469d-9aee-8f4bf9541890"
      },
      "execution_count": null,
      "outputs": [
        {
          "output_type": "execute_result",
          "data": {
            "text/plain": [
              "20"
            ]
          },
          "metadata": {},
          "execution_count": 52
        }
      ]
    },
    {
      "cell_type": "markdown",
      "source": [
        "2) Create a Python function that accept a string and return the reverse of the string."
      ],
      "metadata": {
        "id": "j8pTGEBR8JVY"
      }
    },
    {
      "cell_type": "code",
      "source": [
        "def str1(a):\n",
        "  return a[::-1]"
      ],
      "metadata": {
        "id": "uNQYTXRa5us4"
      },
      "execution_count": null,
      "outputs": []
    },
    {
      "cell_type": "code",
      "source": [
        "str1(\"khadija\")"
      ],
      "metadata": {
        "colab": {
          "base_uri": "https://localhost:8080/",
          "height": 36
        },
        "id": "ttmMgE7_-8og",
        "outputId": "c8d78837-36bc-4397-f650-89aec65b5ec7"
      },
      "execution_count": null,
      "outputs": [
        {
          "output_type": "execute_result",
          "data": {
            "text/plain": [
              "'ajidahk'"
            ],
            "application/vnd.google.colaboratory.intrinsic+json": {
              "type": "string"
            }
          },
          "metadata": {},
          "execution_count": 60
        }
      ]
    },
    {
      "cell_type": "markdown",
      "source": [
        "3) Implement the Python function that takes a list of integers and return a new list containing the square of each number."
      ],
      "metadata": {
        "id": "_AEzzc2QBs4w"
      }
    },
    {
      "cell_type": "code",
      "source": [
        "def lis_of_num(n):\n",
        "  sq_num = []\n",
        "  for i in n:\n",
        "    i = i**2\n",
        "    sq_num.append(i)\n",
        "  return sq_num\n"
      ],
      "metadata": {
        "id": "ylH8l6Pz_BiP"
      },
      "execution_count": null,
      "outputs": []
    },
    {
      "cell_type": "code",
      "source": [
        "lis_of_num([1,2,3,4,5,6])"
      ],
      "metadata": {
        "colab": {
          "base_uri": "https://localhost:8080/"
        },
        "id": "stsrGsJHCg1H",
        "outputId": "7d31998c-ef2b-43b6-ec76-5f14ee1ad1c4"
      },
      "execution_count": null,
      "outputs": [
        {
          "output_type": "execute_result",
          "data": {
            "text/plain": [
              "[1, 4, 9, 16, 25, 36]"
            ]
          },
          "metadata": {},
          "execution_count": 62
        }
      ]
    },
    {
      "cell_type": "markdown",
      "source": [
        "4) Write a Python function that checks if a given number is primr or not from 1 to 200."
      ],
      "metadata": {
        "id": "xDZBdxEiElVi"
      }
    },
    {
      "cell_type": "code",
      "source": [
        "def is_prime(n):\n",
        "  count = 0\n",
        "  for i in range(1,201):\n",
        "    if n%i==0:\n",
        "      count = count+1\n",
        "  if count ==2:\n",
        "    return True\n",
        "  else:\n",
        "    return False\n",
        "\n",
        "\n"
      ],
      "metadata": {
        "id": "_6PKsG37yr0l"
      },
      "execution_count": null,
      "outputs": []
    },
    {
      "cell_type": "code",
      "source": [
        "is_prime(2)"
      ],
      "metadata": {
        "colab": {
          "base_uri": "https://localhost:8080/"
        },
        "id": "xaQfs-Q1zyTF",
        "outputId": "30082075-b1fa-442c-f233-c1e1f8cdbfea"
      },
      "execution_count": null,
      "outputs": [
        {
          "output_type": "execute_result",
          "data": {
            "text/plain": [
              "True"
            ]
          },
          "metadata": {},
          "execution_count": 10
        }
      ]
    },
    {
      "cell_type": "code",
      "source": [
        "is_prime(16)"
      ],
      "metadata": {
        "colab": {
          "base_uri": "https://localhost:8080/"
        },
        "id": "vjM2tyexz6g8",
        "outputId": "e6004651-a017-4bb5-9f80-2544a4c1cb43"
      },
      "execution_count": null,
      "outputs": [
        {
          "output_type": "execute_result",
          "data": {
            "text/plain": [
              "False"
            ]
          },
          "metadata": {},
          "execution_count": 11
        }
      ]
    },
    {
      "cell_type": "code",
      "source": [
        "is_prime(200)"
      ],
      "metadata": {
        "colab": {
          "base_uri": "https://localhost:8080/"
        },
        "id": "tD8sj1bm0CpU",
        "outputId": "7b4996a5-be38-498d-8340-a87cd6e4b412"
      },
      "execution_count": null,
      "outputs": [
        {
          "output_type": "execute_result",
          "data": {
            "text/plain": [
              "False"
            ]
          },
          "metadata": {},
          "execution_count": 12
        }
      ]
    },
    {
      "cell_type": "markdown",
      "source": [
        "5) Create an iterator class in Python that generates the fibonacii series upto specified number of terms."
      ],
      "metadata": {
        "id": "GOfN-mcr0bSn"
      }
    },
    {
      "cell_type": "code",
      "source": [
        "def fibo(n):\n",
        "  a = 0\n",
        "  b = 1\n",
        "  for i in range(n):\n",
        "    yield a\n",
        "    a,b = b,a+b"
      ],
      "metadata": {
        "id": "Jfw7HD2h4L9a"
      },
      "execution_count": null,
      "outputs": []
    },
    {
      "cell_type": "code",
      "source": [
        "f = fibo(10)\n"
      ],
      "metadata": {
        "id": "JXYrZxU749nZ"
      },
      "execution_count": null,
      "outputs": []
    },
    {
      "cell_type": "code",
      "source": [
        "next(f)"
      ],
      "metadata": {
        "colab": {
          "base_uri": "https://localhost:8080/"
        },
        "id": "85R77ot649mZ",
        "outputId": "a895a24c-c956-4889-ea96-7cb908c45686"
      },
      "execution_count": null,
      "outputs": [
        {
          "output_type": "execute_result",
          "data": {
            "text/plain": [
              "0"
            ]
          },
          "metadata": {},
          "execution_count": 47
        }
      ]
    },
    {
      "cell_type": "code",
      "source": [
        "next(f)"
      ],
      "metadata": {
        "colab": {
          "base_uri": "https://localhost:8080/"
        },
        "id": "7M5BpcXZ5gQJ",
        "outputId": "baf23650-4fff-4692-d635-2433f2d23127"
      },
      "execution_count": null,
      "outputs": [
        {
          "output_type": "execute_result",
          "data": {
            "text/plain": [
              "1"
            ]
          },
          "metadata": {},
          "execution_count": 48
        }
      ]
    },
    {
      "cell_type": "code",
      "source": [
        "next(f)"
      ],
      "metadata": {
        "colab": {
          "base_uri": "https://localhost:8080/"
        },
        "id": "Lts1Sena5kb5",
        "outputId": "3c6ad9d6-d9cc-48d3-ef54-13ab3f6ba462"
      },
      "execution_count": null,
      "outputs": [
        {
          "output_type": "execute_result",
          "data": {
            "text/plain": [
              "1"
            ]
          },
          "metadata": {},
          "execution_count": 49
        }
      ]
    },
    {
      "cell_type": "code",
      "source": [
        "next(f)"
      ],
      "metadata": {
        "colab": {
          "base_uri": "https://localhost:8080/"
        },
        "id": "AWCfhK-w5nqk",
        "outputId": "fb3f3a8e-364f-4900-e106-9bbed1bd2945"
      },
      "execution_count": null,
      "outputs": [
        {
          "output_type": "execute_result",
          "data": {
            "text/plain": [
              "2"
            ]
          },
          "metadata": {},
          "execution_count": 50
        }
      ]
    },
    {
      "cell_type": "markdown",
      "source": [
        "6) Use a lambda function in Python to sort a list of tuples based on the second element of each tuple."
      ],
      "metadata": {
        "id": "a1gYtRfrqJuv"
      }
    },
    {
      "cell_type": "code",
      "source": [
        "l2 = [(\"banana\",3,5),(\"apple\",4,6),(\"peach\",1,7),(\"orange\",2,8)]\n",
        "sorted_lis = sorted(l2,key = lambda x:x[1])\n",
        "print(sorted_lis)"
      ],
      "metadata": {
        "colab": {
          "base_uri": "https://localhost:8080/"
        },
        "id": "ALJ5LWko7MMQ",
        "outputId": "1624713f-1709-45df-bc53-1c0e5d3b3c17"
      },
      "execution_count": null,
      "outputs": [
        {
          "output_type": "stream",
          "name": "stdout",
          "text": [
            "[('peach', 1, 7), ('orange', 2, 8), ('banana', 3, 5), ('apple', 4, 6)]\n"
          ]
        }
      ]
    },
    {
      "cell_type": "markdown",
      "source": [
        "7) Write a Python program that uses map() to convert a list of temperatures from celsius to farheniet"
      ],
      "metadata": {
        "id": "Mhlj0V5Qted2"
      }
    },
    {
      "cell_type": "code",
      "source": [
        "lis_temp = [26,34,56,32.5,12.6]\n",
        "list(map(lambda x:x*9/5 + 32,lis_temp))"
      ],
      "metadata": {
        "colab": {
          "base_uri": "https://localhost:8080/"
        },
        "id": "nJ_abRlYuBq_",
        "outputId": "19e43417-e154-4478-df44-1052bb124986"
      },
      "execution_count": null,
      "outputs": [
        {
          "output_type": "execute_result",
          "data": {
            "text/plain": [
              "[78.8, 93.2, 132.8, 90.5, 54.68]"
            ]
          },
          "metadata": {},
          "execution_count": 16
        }
      ]
    },
    {
      "cell_type": "markdown",
      "source": [
        "10) create a Python program that uses filter() function to remove all the vowels from a given string."
      ],
      "metadata": {
        "id": "oYYAwPsDulY2"
      }
    },
    {
      "cell_type": "code",
      "source": [
        "a = [\"data science\",\"data analytics\"]\n",
        "def vowel(x):\n",
        "  v = [\"a\",\"e\",\"i\",\"o\",\"u\"]\n",
        "  for i in v:\n",
        "    return v\n",
        "\n",
        "b = list(filter(vowel,a))"
      ],
      "metadata": {
        "id": "BaBj-JWA-_yP"
      },
      "execution_count": 15,
      "outputs": []
    },
    {
      "cell_type": "code",
      "source": [
        "print(b)"
      ],
      "metadata": {
        "colab": {
          "base_uri": "https://localhost:8080/"
        },
        "id": "GPXn-NkwBegW",
        "outputId": "d158d540-e579-40e3-9dbb-7299f6f5069d"
      },
      "execution_count": 13,
      "outputs": [
        {
          "output_type": "stream",
          "name": "stdout",
          "text": [
            "['data science', 'data analytics']\n"
          ]
        }
      ]
    },
    {
      "cell_type": "code",
      "source": [],
      "metadata": {
        "id": "AncMttpwBkd2"
      },
      "execution_count": null,
      "outputs": []
    }
  ]
}